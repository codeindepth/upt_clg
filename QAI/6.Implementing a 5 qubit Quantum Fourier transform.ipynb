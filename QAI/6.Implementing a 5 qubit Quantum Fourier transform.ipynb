{
 "cells": [
  {
   "cell_type": "markdown",
   "metadata": {
    "id": "y2e7OSi2Bl5a"
   },
   "source": [
    "#### Prerequisite Libraries"
   ]
  },
  {
   "cell_type": "code",
   "execution_count": 1,
   "metadata": {
    "colab": {
     "base_uri": "https://localhost:8080/"
    },
    "collapsed": true,
    "executionInfo": {
     "elapsed": 18414,
     "status": "ok",
     "timestamp": 1728142669838,
     "user": {
      "displayName": "Vedant Andhale",
      "userId": "02021452861721042365"
     },
     "user_tz": -330
    },
    "id": "ijsJfvlrVahi",
    "jupyter": {
     "outputs_hidden": true
    },
    "outputId": "866cb874-1795-4755-d030-5f1ddfef66dd"
   },
   "outputs": [
    {
     "name": "stdout",
     "output_type": "stream",
     "text": [
      "Collecting qiskit\n",
      "  Downloading qiskit-1.2.4-cp38-abi3-manylinux_2_17_x86_64.manylinux2014_x86_64.whl.metadata (12 kB)\n",
      "Collecting qiskit-aer\n",
      "  Downloading qiskit_aer-0.15.1-cp310-cp310-manylinux_2_17_x86_64.manylinux2014_x86_64.whl.metadata (8.0 kB)\n",
      "Collecting rustworkx>=0.15.0 (from qiskit)\n",
      "  Downloading rustworkx-0.15.1-cp38-abi3-manylinux_2_17_x86_64.manylinux2014_x86_64.whl.metadata (9.9 kB)\n",
      "Requirement already satisfied: numpy<3,>=1.17 in /usr/local/lib/python3.10/dist-packages (from qiskit) (1.26.4)\n",
      "Requirement already satisfied: scipy>=1.5 in /usr/local/lib/python3.10/dist-packages (from qiskit) (1.13.1)\n",
      "Requirement already satisfied: sympy>=1.3 in /usr/local/lib/python3.10/dist-packages (from qiskit) (1.13.3)\n",
      "Collecting dill>=0.3 (from qiskit)\n",
      "  Downloading dill-0.3.9-py3-none-any.whl.metadata (10 kB)\n",
      "Requirement already satisfied: python-dateutil>=2.8.0 in /usr/local/lib/python3.10/dist-packages (from qiskit) (2.8.2)\n",
      "Collecting stevedore>=3.0.0 (from qiskit)\n",
      "  Downloading stevedore-5.3.0-py3-none-any.whl.metadata (2.3 kB)\n",
      "Requirement already satisfied: typing-extensions in /usr/local/lib/python3.10/dist-packages (from qiskit) (4.12.2)\n",
      "Collecting symengine<0.14,>=0.11 (from qiskit)\n",
      "  Downloading symengine-0.13.0-cp310-cp310-manylinux_2_17_x86_64.manylinux2014_x86_64.whl.metadata (1.2 kB)\n",
      "Requirement already satisfied: psutil>=5 in /usr/local/lib/python3.10/dist-packages (from qiskit-aer) (5.9.5)\n",
      "Requirement already satisfied: six>=1.5 in /usr/local/lib/python3.10/dist-packages (from python-dateutil>=2.8.0->qiskit) (1.16.0)\n",
      "Collecting pbr>=2.0.0 (from stevedore>=3.0.0->qiskit)\n",
      "  Downloading pbr-6.1.0-py2.py3-none-any.whl.metadata (3.4 kB)\n",
      "Requirement already satisfied: mpmath<1.4,>=1.1.0 in /usr/local/lib/python3.10/dist-packages (from sympy>=1.3->qiskit) (1.3.0)\n",
      "Downloading qiskit-1.2.4-cp38-abi3-manylinux_2_17_x86_64.manylinux2014_x86_64.whl (4.8 MB)\n",
      "\u001b[2K   \u001b[90m━━━━━━━━━━━━━━━━━━━━━━━━━━━━━━━━━━━━━━━━\u001b[0m \u001b[32m4.8/4.8 MB\u001b[0m \u001b[31m41.4 MB/s\u001b[0m eta \u001b[36m0:00:00\u001b[0m\n",
      "\u001b[?25hDownloading qiskit_aer-0.15.1-cp310-cp310-manylinux_2_17_x86_64.manylinux2014_x86_64.whl (12.3 MB)\n",
      "\u001b[2K   \u001b[90m━━━━━━━━━━━━━━━━━━━━━━━━━━━━━━━━━━━━━━━━\u001b[0m \u001b[32m12.3/12.3 MB\u001b[0m \u001b[31m69.4 MB/s\u001b[0m eta \u001b[36m0:00:00\u001b[0m\n",
      "\u001b[?25hDownloading dill-0.3.9-py3-none-any.whl (119 kB)\n",
      "\u001b[2K   \u001b[90m━━━━━━━━━━━━━━━━━━━━━━━━━━━━━━━━━━━━━━━━\u001b[0m \u001b[32m119.4/119.4 kB\u001b[0m \u001b[31m6.3 MB/s\u001b[0m eta \u001b[36m0:00:00\u001b[0m\n",
      "\u001b[?25hDownloading rustworkx-0.15.1-cp38-abi3-manylinux_2_17_x86_64.manylinux2014_x86_64.whl (2.0 MB)\n",
      "\u001b[2K   \u001b[90m━━━━━━━━━━━━━━━━━━━━━━━━━━━━━━━━━━━━━━━━\u001b[0m \u001b[32m2.0/2.0 MB\u001b[0m \u001b[31m48.0 MB/s\u001b[0m eta \u001b[36m0:00:00\u001b[0m\n",
      "\u001b[?25hDownloading stevedore-5.3.0-py3-none-any.whl (49 kB)\n",
      "\u001b[2K   \u001b[90m━━━━━━━━━━━━━━━━━━━━━━━━━━━━━━━━━━━━━━━━\u001b[0m \u001b[32m49.7/49.7 kB\u001b[0m \u001b[31m2.9 MB/s\u001b[0m eta \u001b[36m0:00:00\u001b[0m\n",
      "\u001b[?25hDownloading symengine-0.13.0-cp310-cp310-manylinux_2_17_x86_64.manylinux2014_x86_64.whl (49.7 MB)\n",
      "\u001b[2K   \u001b[90m━━━━━━━━━━━━━━━━━━━━━━━━━━━━━━━━━━━━━━━━\u001b[0m \u001b[32m49.7/49.7 MB\u001b[0m \u001b[31m16.5 MB/s\u001b[0m eta \u001b[36m0:00:00\u001b[0m\n",
      "\u001b[?25hDownloading pbr-6.1.0-py2.py3-none-any.whl (108 kB)\n",
      "\u001b[2K   \u001b[90m━━━━━━━━━━━━━━━━━━━━━━━━━━━━━━━━━━━━━━━━\u001b[0m \u001b[32m108.5/108.5 kB\u001b[0m \u001b[31m4.8 MB/s\u001b[0m eta \u001b[36m0:00:00\u001b[0m\n",
      "\u001b[?25hInstalling collected packages: symengine, rustworkx, pbr, dill, stevedore, qiskit, qiskit-aer\n",
      "Successfully installed dill-0.3.9 pbr-6.1.0 qiskit-1.2.4 qiskit-aer-0.15.1 rustworkx-0.15.1 stevedore-5.3.0 symengine-0.13.0\n"
     ]
    }
   ],
   "source": [
    "!pip install qiskit qiskit-aer"
   ]
  },
  {
   "cell_type": "markdown",
   "metadata": {
    "id": "nBfsJ5miBvIM"
   },
   "source": [
    "#### Code and Output\n"
   ]
  },
  {
   "cell_type": "code",
   "execution_count": 1,
   "metadata": {
    "colab": {
     "base_uri": "https://localhost:8080/"
    },
    "executionInfo": {
     "elapsed": 582,
     "status": "ok",
     "timestamp": 1728142670416,
     "user": {
      "displayName": "Vedant Andhale",
      "userId": "02021452861721042365"
     },
     "user_tz": -330
    },
    "id": "_scn-bCwVctu",
    "outputId": "9ad0ce61-daac-49e6-ae52-9956a93daa51"
   },
   "outputs": [
    {
     "name": "stdout",
     "output_type": "stream",
     "text": [
      "QFT Circuit:\n",
      "     ┌───┐┌───┐                                                                »\n",
      "q_0: ┤ X ├┤ H ├─■────────■────────■─────────────────■──────────────────────────»\n",
      "     ├───┤└───┘ │P(π/2)  │        │                 │                          »\n",
      "q_1: ┤ H ├──────■────────┼────────┼────────■────────┼─────────■────────■───────»\n",
      "     ├───┤┌───┐          │P(π/4)  │        │P(π/2)  │         │        │       »\n",
      "q_2: ┤ X ├┤ H ├──────────■────────┼────────■────────┼─────────┼────────┼───────»\n",
      "     ├───┤└───┘                   │P(π/8)           │         │P(π/4)  │       »\n",
      "q_3: ┤ H ├────────────────────────■─────────────────┼─────────■────────┼───────»\n",
      "     ├───┤┌───┐                                     │P(π/16)           │P(π/8) »\n",
      "q_4: ┤ X ├┤ H ├─────────────────────────────────────■──────────────────■───────»\n",
      "     └───┘└───┘                                                                »\n",
      "c: 5/══════════════════════════════════════════════════════════════════════════»\n",
      "                                                                               »\n",
      "«                                         ┌─┐      \n",
      "«q_0: ───────────────────────────────X────┤M├──────\n",
      "«                                    │    └╥┘┌─┐   \n",
      "«q_1: ───────────────────────────────┼──X──╫─┤M├───\n",
      "«                                ┌─┐ │  │  ║ └╥┘   \n",
      "«q_2: ─■────────■────────────────┤M├─┼──┼──╫──╫────\n",
      "«      │P(π/2)  │                └╥┘ │  │  ║  ║ ┌─┐\n",
      "«q_3: ─■────────┼────────■────────╫──┼──X──╫──╫─┤M├\n",
      "«               │P(π/4)  │P(π/2)  ║  │ ┌─┐ ║  ║ └╥┘\n",
      "«q_4: ──────────■────────■────────╫──X─┤M├─╫──╫──╫─\n",
      "«                                 ║    └╥┘ ║  ║  ║ \n",
      "«c: 5/════════════════════════════╩═════╩══╩══╩══╩═\n",
      "«                                 2     4  0  1  3 \n",
      "\n",
      "QFT Output:\n",
      "{'10110': 23, '01011': 31, '10101': 32, '10010': 26, '11100': 33, '11010': 41, '00101': 28, '01001': 24, '10001': 38, '01000': 24, '01100': 38, '10011': 32, '01110': 24, '00010': 24, '00001': 31, '00110': 31, '10000': 31, '11011': 27, '11111': 34, '11000': 44, '00100': 35, '00111': 36, '00011': 39, '01111': 33, '10111': 42, '10100': 25, '01010': 43, '11001': 28, '00000': 32, '11101': 31, '11110': 32, '01101': 32}\n"
     ]
    },
    {
     "name": "stderr",
     "output_type": "stream",
     "text": [
      "/tmp/ipykernel_87476/87011151.py:54: UserWarning: FigureCanvasAgg is non-interactive, and thus cannot be shown\n",
      "  plot_histogram(counts).show()\n"
     ]
    },
    {
     "name": "stdout",
     "output_type": "stream",
     "text": [
      "Inverse QFT Circuit:\n",
      "     ┌───┐                                                      ┌───┐  »\n",
      "q_0: ┤ X ├────X──■────────■────────■─────────────────■──────────┤ H ├──»\n",
      "     └───┘    │  │P(π/2)  │        │                 │          └───┘  »\n",
      "q_1: ──────X──┼──■────────┼────────┼────────■────────┼─────────■───────»\n",
      "     ┌───┐ │  │           │P(π/4)  │        │P(π/2)  │         │       »\n",
      "q_2: ┤ X ├─┼──┼───────────■────────┼────────■────────┼─────────┼───────»\n",
      "     └───┘ │  │                    │P(π/8)           │         │P(π/4) »\n",
      "q_3: ──────X──┼────────────────────■─────────────────┼─────────■───────»\n",
      "     ┌───┐    │                                      │P(π/16)          »\n",
      "q_4: ┤ X ├────X──────────────────────────────────────■─────────────────»\n",
      "     └───┘                                                             »\n",
      "c: 5/══════════════════════════════════════════════════════════════════»\n",
      "                                                                       »\n",
      "«                                ┌─┐                          \n",
      "«q_0: ───────────────────────────┤M├──────────────────────────\n",
      "«                ┌───┐           └╥┘         ┌─┐              \n",
      "«q_1: ─■─────────┤ H ├────────────╫──────────┤M├──────────────\n",
      "«      │         └───┘            ║   ┌───┐  └╥┘     ┌─┐      \n",
      "«q_2: ─┼────────■────────■────────╫───┤ H ├───╫──────┤M├──────\n",
      "«      │        │P(π/2)  │        ║   └───┘   ║ ┌───┐└╥┘┌─┐   \n",
      "«q_3: ─┼────────■────────┼────────╫──■────────╫─┤ H ├─╫─┤M├───\n",
      "«      │P(π/8)           │P(π/4)  ║  │P(π/2)  ║ ├───┤ ║ └╥┘┌─┐\n",
      "«q_4: ─■─────────────────■────────╫──■────────╫─┤ H ├─╫──╫─┤M├\n",
      "«                                 ║           ║ └───┘ ║  ║ └╥┘\n",
      "«c: 5/════════════════════════════╩═══════════╩═══════╩══╩══╩═\n",
      "«                                 0           1       2  3  4 \n",
      "\n",
      "Inverse QFT Output:\n",
      "{'00010': 23, '11010': 32, '11110': 41, '01101': 24, '11000': 34, '10000': 38, '11111': 25, '11011': 32, '01111': 33, '00101': 33, '01001': 37, '10001': 28, '10101': 33, '11100': 41, '10010': 35, '11101': 30, '01011': 26, '00000': 40, '11001': 27, '01010': 36, '00001': 38, '00110': 36, '01100': 35, '01000': 31, '10111': 36, '10100': 26, '01110': 30, '00011': 32, '00111': 23, '00100': 25, '10110': 25, '10011': 39}\n"
     ]
    },
    {
     "name": "stderr",
     "output_type": "stream",
     "text": [
      "/tmp/ipykernel_87476/87011151.py:83: UserWarning: FigureCanvasAgg is non-interactive, and thus cannot be shown\n",
      "  plot_histogram(counts).show()\n"
     ]
    }
   ],
   "source": [
    "from qiskit import QuantumCircuit\n",
    "from qiskit_aer import Aer\n",
    "from qiskit.visualization import plot_histogram\n",
    "import numpy as np\n",
    "\n",
    "def prepare_state(circuit, qubits):\n",
    "    circuit.x(0)  \n",
    "    circuit.x(2)  \n",
    "    circuit.x(4)  \n",
    "\n",
    "def apply_hadamard(circuit, n):\n",
    "    for qubit in range(n):\n",
    "        circuit.h(qubit)\n",
    "\n",
    "def apply_controlled_phase_shifts(circuit, n):\n",
    "    for i in range(n):\n",
    "        for j in range(i+1, n):\n",
    "            angle = np.pi / (2 ** (j - i))\n",
    "            circuit.cp(angle, j, i)\n",
    "\n",
    "def bit_reversal(circuit, n):\n",
    "    for i in range(n // 2):\n",
    "        circuit.swap(i, n - i - 1)\n",
    "\n",
    "def qft_5_qubits():\n",
    "    n_qubits = 5\n",
    "    qc = QuantumCircuit(n_qubits, n_qubits)\n",
    "\n",
    "    prepare_state(qc, n_qubits)\n",
    "\n",
    "    apply_hadamard(qc, n_qubits)\n",
    "\n",
    "    apply_controlled_phase_shifts(qc, n_qubits)\n",
    "\n",
    "    bit_reversal(qc, n_qubits)\n",
    "\n",
    "    qc.measure(range(n_qubits), range(n_qubits))\n",
    "\n",
    "    return qc\n",
    "\n",
    "def run_qft():\n",
    "    qc_qft = qft_5_qubits()\n",
    "\n",
    "    simulator = Aer.get_backend('qasm_simulator')\n",
    "    job = simulator.run(qc_qft, shots=1024)\n",
    "    result = job.result()\n",
    "    counts = result.get_counts(qc_qft)\n",
    "\n",
    "    print(\"QFT Circuit:\")\n",
    "    print(qc_qft.draw(output='text'))\n",
    "    print(\"\\nQFT Output:\")\n",
    "    print(counts)\n",
    "\n",
    "    plot_histogram(counts).show()\n",
    "\n",
    "def inverse_qft_5_qubits():\n",
    "    n_qubits = 5\n",
    "    qc = QuantumCircuit(n_qubits, n_qubits)\n",
    "\n",
    "    prepare_state(qc, n_qubits)\n",
    "\n",
    "    bit_reversal(qc, n_qubits)\n",
    "    apply_controlled_phase_shifts(qc, n_qubits)\n",
    "    apply_hadamard(qc, n_qubits)\n",
    "\n",
    "    qc.measure(range(n_qubits), range(n_qubits))\n",
    "\n",
    "    return qc\n",
    "\n",
    "def run_inverse_qft():\n",
    "    qc_inv_qft = inverse_qft_5_qubits()\n",
    "\n",
    "    simulator = Aer.get_backend('qasm_simulator')\n",
    "    job = simulator.run(qc_inv_qft, shots=1024)\n",
    "    result = job.result()\n",
    "    counts = result.get_counts(qc_inv_qft)\n",
    "\n",
    "    print(\"Inverse QFT Circuit:\")\n",
    "    print(qc_inv_qft.draw(output='text'))\n",
    "    print(\"\\nInverse QFT Output:\")\n",
    "    print(counts)\n",
    "\n",
    "    plot_histogram(counts).show()\n",
    "\n",
    "run_qft()\n",
    "\n",
    "run_inverse_qft()\n"
   ]
  },
  {
   "cell_type": "code",
   "execution_count": null,
   "metadata": {
    "id": "EiDmJJF2GUtC"
   },
   "outputs": [],
   "source": []
  }
 ],
 "metadata": {
  "colab": {
   "authorship_tag": "ABX9TyMwCwuxcsxZi/CupGXHh74D",
   "provenance": []
  },
  "kernelspec": {
   "display_name": "Python 3 (ipykernel)",
   "language": "python",
   "name": "python3"
  },
  "language_info": {
   "codemirror_mode": {
    "name": "ipython",
    "version": 3
   },
   "file_extension": ".py",
   "mimetype": "text/x-python",
   "name": "python",
   "nbconvert_exporter": "python",
   "pygments_lexer": "ipython3",
   "version": "3.12.6"
  }
 },
 "nbformat": 4,
 "nbformat_minor": 4
}
