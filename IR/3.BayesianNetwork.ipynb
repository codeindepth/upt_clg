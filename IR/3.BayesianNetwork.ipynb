{
 "cells": [
  {
   "cell_type": "markdown",
   "metadata": {
    "id": "9XT1uLf-SDOl"
   },
   "source": [
    "#### Code and Output\n"
   ]
  },
  {
   "cell_type": "code",
   "execution_count": null,
   "metadata": {
    "colab": {
     "base_uri": "https://localhost:8080/"
    },
    "executionInfo": {
     "elapsed": 533,
     "status": "ok",
     "timestamp": 1727433398420,
     "user": {
      "displayName": "Vedant Andhale",
      "userId": "02021452861721042365"
     },
     "user_tz": -330
    },
    "id": "f9uux3ui7rmP",
    "outputId": "621ffdc8-42b1-412e-f1c8-9518458c3e3f"
   },
   "outputs": [
    {
     "name": "stdout",
     "output_type": "stream",
     "text": [
      "Few examples from the dataset are given below : \n",
      "\n",
      "   age  sex  cp  trestbps  chol  fbs  restecg  thalach  exang  oldpeak  slope  \\\n",
      "0   63    1   1       145   233    1        2      150      0      2.3      3   \n",
      "1   67    1   4       160   286    0        2      108      1      1.5      2   \n",
      "2   67    1   4       120   229    0        2      129      1      2.6      2   \n",
      "3   37    1   3       130   250    0        0      187      0      3.5      3   \n",
      "4   41    0   2       130   204    0        2      172      0      1.4      1   \n",
      "\n",
      "  ca thal  heartdisease  \n",
      "0  0    6             0  \n",
      "1  3    3             2  \n",
      "2  2    7             1  \n",
      "3  0    3             0  \n",
      "4  0    3             0  \n",
      "\n",
      "Learning CPD using Maximum likelihood estimators\n",
      "Inferencing with Bayesian Network:\n",
      "1. Probability of HeartDisease given Age=38\n",
      "+-----------------+---------------------+\n",
      "| heartdisease    |   phi(heartdisease) |\n",
      "+=================+=====================+\n",
      "| heartdisease(0) |              0.7026 |\n",
      "+-----------------+---------------------+\n",
      "| heartdisease(1) |              0.1024 |\n",
      "+-----------------+---------------------+\n",
      "| heartdisease(2) |              0.0577 |\n",
      "+-----------------+---------------------+\n",
      "| heartdisease(3) |              0.0631 |\n",
      "+-----------------+---------------------+\n",
      "| heartdisease(4) |              0.0741 |\n",
      "+-----------------+---------------------+\n",
      "\n",
      " 2. Probability of HeartDisease given cholesterol=230\n",
      "+-----------------+---------------------+\n",
      "| heartdisease    |   phi(heartdisease) |\n",
      "+=================+=====================+\n",
      "| heartdisease(0) |              0.0000 |\n",
      "+-----------------+---------------------+\n",
      "| heartdisease(1) |              0.3270 |\n",
      "+-----------------+---------------------+\n",
      "| heartdisease(2) |              0.3059 |\n",
      "+-----------------+---------------------+\n",
      "| heartdisease(3) |              0.0000 |\n",
      "+-----------------+---------------------+\n",
      "| heartdisease(4) |              0.3671 |\n",
      "+-----------------+---------------------+\n"
     ]
    }
   ],
   "source": [
    "import numpy as np\n",
    "import pandas as pd\n",
    "from pgmpy.models import BayesianNetwork\n",
    "from pgmpy.estimators import MaximumLikelihoodEstimator\n",
    "from pgmpy.inference import VariableElimination\n",
    "\n",
    "heartDisease = pd.read_csv('heart.csv')\n",
    "heartDisease = heartDisease.replace('?',np.nan)\n",
    "\n",
    "print(f\"Few examples from the dataset are given below : \\n\\n{heartDisease.head()}\")\n",
    "\n",
    "model = BayesianNetwork([('age','trestbps'),('age','fbs'),('sex','trestbps'),('exang','trestbps'),('trestbps','heartdisease'),\n",
    "                       ('fbs','heartdisease'),('heartdisease','restecg'), ('heartdisease','thalach'),('heartdisease','chol')])\n",
    "\n",
    "print('\\nLearning CPD using Maximum likelihood estimators')\n",
    "model.fit(heartDisease, estimator=MaximumLikelihoodEstimator)\n",
    "\n",
    "print('Inferencing with Bayesian Network:')\n",
    "HeartDisease_infer = VariableElimination(model)\n",
    "\n",
    "print('1. Probability of HeartDisease given Age=38')\n",
    "q = HeartDisease_infer.query(variables=['heartdisease'], evidence={'age':38})\n",
    "print(q)\n",
    "\n",
    "print('\\n 2. Probability of HeartDisease given cholesterol=230')\n",
    "q=HeartDisease_infer.query(variables=['heartdisease'], evidence ={'chol':230})\n",
    "print(q)\n"
   ]
  },
  {
   "cell_type": "code",
   "execution_count": null,
   "metadata": {},
   "outputs": [],
   "source": []
  }
 ],
 "metadata": {
  "colab": {
   "authorship_tag": "ABX9TyN1QNdr5DyCcP0PIkH9rkW0",
   "provenance": []
  },
  "kernelspec": {
   "display_name": ".venv",
   "language": "python",
   "name": "python3"
  },
  "language_info": {
   "codemirror_mode": {
    "name": "ipython",
    "version": 3
   },
   "file_extension": ".py",
   "mimetype": "text/x-python",
   "name": "python",
   "nbconvert_exporter": "python",
   "pygments_lexer": "ipython3",
   "version": "3.12.6"
  }
 },
 "nbformat": 4,
 "nbformat_minor": 4
}
