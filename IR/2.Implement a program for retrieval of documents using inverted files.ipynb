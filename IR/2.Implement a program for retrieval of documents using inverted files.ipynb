{
 "cells": [
  {
   "cell_type": "markdown",
   "metadata": {
    "id": "CVqx-IAASFK2"
   },
   "source": [
    "#### Code and Output\n"
   ]
  },
  {
   "cell_type": "code",
   "execution_count": null,
   "metadata": {
    "colab": {
     "base_uri": "https://localhost:8080/"
    },
    "executionInfo": {
     "elapsed": 8097,
     "status": "ok",
     "timestamp": 1727428713606,
     "user": {
      "displayName": "Vedant Andhale",
      "userId": "02021452861721042365"
     },
     "user_tz": -330
    },
    "id": "5OGZCl-lxOGC",
    "outputId": "5cdf64d5-8a2e-4b67-dbd9-90f0921b19a5"
   },
   "outputs": [
    {
     "name": "stderr",
     "output_type": "stream",
     "text": [
      "[nltk_data] Downloading package punkt to\n",
      "[nltk_data]     /home/syntaxintel/nltk_data...\n",
      "[nltk_data]   Package punkt is already up-to-date!\n"
     ]
    },
    {
     "data": {
      "text/plain": [
       "True"
      ]
     },
     "execution_count": 3,
     "metadata": {},
     "output_type": "execute_result"
    }
   ],
   "source": [
    "import nltk\n",
    "from nltk.tokenize import word_tokenize\n",
    "\n",
    "nltk.download('punkt')\n"
   ]
  },
  {
   "cell_type": "code",
   "execution_count": null,
   "metadata": {
    "colab": {
     "base_uri": "https://localhost:8080/"
    },
    "executionInfo": {
     "elapsed": 1430,
     "status": "ok",
     "timestamp": 1727428916676,
     "user": {
      "displayName": "Vedant Andhale",
      "userId": "02021452861721042365"
     },
     "user_tz": -330
    },
    "id": "_KKwAJQRxQVD",
    "outputId": "11bdf449-0dd8-4e04-e597-2f7f58c0a5b2"
   },
   "outputs": [
    {
     "name": "stdout",
     "output_type": "stream",
     "text": [
      "Inverted Index Dictionary :\n",
      "{'quick': ['Document 1', 'Document 2'], 'lazy': ['Document 1', 'Document 3'], 'jumps': ['Document 1', 'Document 3'], 'dog': ['Document 1', 'Document 2'], 'the': ['Document 1', 'Document 2'], 'fox': ['Document 1', 'Document 2', 'Document 3'], 'over': ['Document 1', 'Document 2', 'Document 3'], 'brown': ['Document 1'], 'red': ['Document 2'], 'sleepy': ['Document 2'], 'leaps': ['Document 2'], 'a': ['Document 3'], 'clever': ['Document 3'], 'hound': ['Document 3'], 'fast': ['Document 3']}\n",
      "\n",
      "Formatted Output:\n",
      "quick -> Document 1, Document 2\n",
      "lazy -> Document 1, Document 3\n",
      "jumps -> Document 1, Document 3\n",
      "dog -> Document 1, Document 2\n",
      "the -> Document 1, Document 2\n",
      "fox -> Document 1, Document 2, Document 3\n",
      "over -> Document 1, Document 2, Document 3\n",
      "brown -> Document 1\n",
      "red -> Document 2\n",
      "sleepy -> Document 2\n",
      "leaps -> Document 2\n",
      "a -> Document 3\n",
      "clever -> Document 3\n",
      "hound -> Document 3\n",
      "fast -> Document 3\n"
     ]
    }
   ],
   "source": [
    "def create_inverted_index(documents):\n",
    "    inverted_index = {}\n",
    "    for doc_id, document in enumerate(documents):\n",
    "        doc_name = f\"Document {doc_id + 1}\"\n",
    "        words = word_tokenize(document.lower())  \n",
    "        unique_words = set(words)  \n",
    "        for word in unique_words:\n",
    "            if word.isalnum():  \n",
    "                if word not in inverted_index:\n",
    "                    inverted_index[word] = [doc_name]\n",
    "                else:\n",
    "                    inverted_index[word].append(doc_name)\n",
    "    return inverted_index\n",
    "\n",
    "def print_inverted_index(inverted_index):\n",
    "    print(\"Inverted Index Dictionary :\")\n",
    "    print(inverted_index)\n",
    "    print(\"\\nFormatted Output:\")\n",
    "    for word, doc_list in inverted_index.items():\n",
    "        print(f\"{word} -> {', '.join(doc_list)}\")\n",
    "\n",
    "documents = [\n",
    "    \"The quick brown fox jumps over the lazy dog.\",\n",
    "    \"The quick red fox leaps over the sleepy dog.\",\n",
    "    \"A fast, clever fox jumps over a lazy hound.\"\n",
    "]\n",
    "\n",
    "inverted_index = create_inverted_index(documents)\n",
    "\n",
    "print_inverted_index(inverted_index)\n"
   ]
  }
 ],
 "metadata": {
  "colab": {
   "authorship_tag": "ABX9TyPisYf2GvkZUmHYvLL2iuYr",
   "provenance": []
  },
  "kernelspec": {
   "display_name": "Python 3 (ipykernel)",
   "language": "python",
   "name": "python3"
  },
  "language_info": {
   "codemirror_mode": {
    "name": "ipython",
    "version": 3
   },
   "file_extension": ".py",
   "mimetype": "text/x-python",
   "name": "python",
   "nbconvert_exporter": "python",
   "pygments_lexer": "ipython3",
   "version": "3.12.6"
  }
 },
 "nbformat": 4,
 "nbformat_minor": 4
}
