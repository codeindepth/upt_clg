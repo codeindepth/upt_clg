{
 "cells": [
  {
   "cell_type": "markdown",
   "metadata": {
    "id": "DqM1t0SAR56J"
   },
   "source": [
    "#### Code and Output\n"
   ]
  },
  {
   "cell_type": "code",
   "execution_count": null,
   "metadata": {
    "colab": {
     "base_uri": "https://localhost:8080/"
    },
    "executionInfo": {
     "elapsed": 631,
     "status": "ok",
     "timestamp": 1729700829598,
     "user": {
      "displayName": "Vedant Andhale",
      "userId": "02021452861721042365"
     },
     "user_tz": -330
    },
    "id": "w779m-ie2qx7",
    "outputId": "8f5f8b06-a599-4cab-bf32-f4830e788967"
   },
   "outputs": [
    {
     "name": "stdout",
     "output_type": "stream",
     "text": [
      "PageRank Values: {'A': 0.3095534200113058, 'B': 0.16732617297908423, 'C': 0.16156020350480496, 'D': 0.16732617297908423, 'E': 0.3144544940644432}\n"
     ]
    }
   ],
   "source": [
    "import numpy as np\n",
    "\n",
    "def pagerank(graph, num_iterations: int = 100, d: float = 0.85):\n",
    "    \"\"\"\n",
    "    Compute the PageRank of each node in the graph.\n",
    "\n",
    "    Parameters:\n",
    "    - graph: A dictionary representing the adjacency list of the graph.\n",
    "    - num_iterations: Number of iterations to run.\n",
    "    - d: Damping factor.\n",
    "\n",
    "    Returns:\n",
    "    - A dictionary with nodes as keys and their PageRank as values.\n",
    "    \"\"\"\n",
    "    num_nodes = len(graph)\n",
    "\n",
    "    ranks = {node: 1.0 / num_nodes for node in graph}\n",
    "\n",
    "    for _ in range(num_iterations):\n",
    "        new_ranks = {}\n",
    "        for node in graph:\n",
    "            rank_sum = 0.0\n",
    "            for neighbor in graph[node]:\n",
    "                rank_sum += ranks[neighbor] / len(graph[neighbor])\n",
    "            new_ranks[node] = (1 - d) / num_nodes + d * rank_sum\n",
    "\n",
    "        ranks = new_ranks\n",
    "\n",
    "    return ranks\n",
    "\n",
    "graph = {\n",
    "    'A': ['B', 'C'],\n",
    "    'B': ['C'],\n",
    "    'C': ['A'],\n",
    "    'D': ['C'],\n",
    "    'E': ['D', 'B'],\n",
    "}\n",
    "\n",
    "page_rank_values = pagerank(graph)\n",
    "print(\"PageRank Values:\", page_rank_values)\n"
   ]
  },
  {
   "cell_type": "code",
   "execution_count": null,
   "metadata": {
    "id": "2JQV7wu42rdg"
   },
   "outputs": [],
   "source": []
  }
 ],
 "metadata": {
  "colab": {
   "authorship_tag": "ABX9TyPPT54mXmnF7ISEzFMeaQ7+",
   "provenance": []
  },
  "kernelspec": {
   "display_name": ".venv",
   "language": "python",
   "name": "python3"
  },
  "language_info": {
   "codemirror_mode": {
    "name": "ipython",
    "version": 3
   },
   "file_extension": ".py",
   "mimetype": "text/x-python",
   "name": "python",
   "nbconvert_exporter": "python",
   "pygments_lexer": "ipython3",
   "version": "3.12.6"
  }
 },
 "nbformat": 4,
 "nbformat_minor": 0
}
