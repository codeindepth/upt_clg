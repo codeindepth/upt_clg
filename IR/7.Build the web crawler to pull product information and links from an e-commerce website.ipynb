{
 "cells": [
  {
   "cell_type": "markdown",
   "metadata": {
    "id": "wPKMAUlQR3hn"
   },
   "source": [
    "#### Code and Output\n"
   ]
  },
  {
   "cell_type": "code",
   "execution_count": 1,
   "metadata": {
    "colab": {
     "base_uri": "https://localhost:8080/"
    },
    "executionInfo": {
     "elapsed": 2248,
     "status": "ok",
     "timestamp": 1727430605560,
     "user": {
      "displayName": "Vedant Andhale",
      "userId": "02021452861721042365"
     },
     "user_tz": -330
    },
    "id": "Poxourz339dI",
    "outputId": "72d8ef55-8b14-41cf-b8e8-0a115fb78fce"
   },
   "outputs": [
    {
     "name": "stdout",
     "output_type": "stream",
     "text": [
      "Title: A Light in the Attic\n",
      "Price: £51.77\n",
      "Availability: In stock\n",
      "Link: catalogue/a-light-in-the-attic_1000/index.html\n",
      "\n",
      "Title: Tipping the Velvet\n",
      "Price: £53.74\n",
      "Availability: In stock\n",
      "Link: catalogue/tipping-the-velvet_999/index.html\n",
      "\n",
      "Title: Soumission\n",
      "Price: £50.10\n",
      "Availability: In stock\n",
      "Link: catalogue/soumission_998/index.html\n",
      "\n",
      "Title: Sharp Objects\n",
      "Price: £47.82\n",
      "Availability: In stock\n",
      "Link: catalogue/sharp-objects_997/index.html\n",
      "\n",
      "Title: Sapiens: A Brief History of Humankind\n",
      "Price: £54.23\n",
      "Availability: In stock\n",
      "Link: catalogue/sapiens-a-brief-history-of-humankind_996/index.html\n",
      "\n",
      "Title: The Requiem Red\n",
      "Price: £22.65\n",
      "Availability: In stock\n",
      "Link: catalogue/the-requiem-red_995/index.html\n",
      "\n",
      "Title: The Dirty Little Secrets of Getting Your Dream Job\n",
      "Price: £33.34\n",
      "Availability: In stock\n",
      "Link: catalogue/the-dirty-little-secrets-of-getting-your-dream-job_994/index.html\n",
      "\n",
      "Title: The Coming Woman: A Novel Based on the Life of the Infamous Feminist, Victoria Woodhull\n",
      "Price: £17.93\n",
      "Availability: In stock\n",
      "Link: catalogue/the-coming-woman-a-novel-based-on-the-life-of-the-infamous-feminist-victoria-woodhull_993/index.html\n",
      "\n",
      "Title: The Boys in the Boat: Nine Americans and Their Epic Quest for Gold at the 1936 Berlin Olympics\n",
      "Price: £22.60\n",
      "Availability: In stock\n",
      "Link: catalogue/the-boys-in-the-boat-nine-americans-and-their-epic-quest-for-gold-at-the-1936-berlin-olympics_992/index.html\n",
      "\n",
      "Title: The Black Maria\n",
      "Price: £52.15\n",
      "Availability: In stock\n",
      "Link: catalogue/the-black-maria_991/index.html\n",
      "\n",
      "Title: Starving Hearts (Triangular Trade Trilogy, #1)\n",
      "Price: £13.99\n",
      "Availability: In stock\n",
      "Link: catalogue/starving-hearts-triangular-trade-trilogy-1_990/index.html\n",
      "\n",
      "Title: Shakespeare's Sonnets\n",
      "Price: £20.66\n",
      "Availability: In stock\n",
      "Link: catalogue/shakespeares-sonnets_989/index.html\n",
      "\n",
      "Title: Set Me Free\n",
      "Price: £17.46\n",
      "Availability: In stock\n",
      "Link: catalogue/set-me-free_988/index.html\n",
      "\n",
      "Title: Scott Pilgrim's Precious Little Life (Scott Pilgrim #1)\n",
      "Price: £52.29\n",
      "Availability: In stock\n",
      "Link: catalogue/scott-pilgrims-precious-little-life-scott-pilgrim-1_987/index.html\n",
      "\n",
      "Title: Rip it Up and Start Again\n",
      "Price: £35.02\n",
      "Availability: In stock\n",
      "Link: catalogue/rip-it-up-and-start-again_986/index.html\n",
      "\n",
      "Title: Our Band Could Be Your Life: Scenes from the American Indie Underground, 1981-1991\n",
      "Price: £57.25\n",
      "Availability: In stock\n",
      "Link: catalogue/our-band-could-be-your-life-scenes-from-the-american-indie-underground-1981-1991_985/index.html\n",
      "\n",
      "Title: Olio\n",
      "Price: £23.88\n",
      "Availability: In stock\n",
      "Link: catalogue/olio_984/index.html\n",
      "\n",
      "Title: Mesaerion: The Best Science Fiction Stories 1800-1849\n",
      "Price: £37.59\n",
      "Availability: In stock\n",
      "Link: catalogue/mesaerion-the-best-science-fiction-stories-1800-1849_983/index.html\n",
      "\n",
      "Title: Libertarianism for Beginners\n",
      "Price: £51.33\n",
      "Availability: In stock\n",
      "Link: catalogue/libertarianism-for-beginners_982/index.html\n",
      "\n",
      "Title: It's Only the Himalayas\n",
      "Price: £45.17\n",
      "Availability: In stock\n",
      "Link: catalogue/its-only-the-himalayas_981/index.html\n",
      "\n"
     ]
    }
   ],
   "source": [
    "import requests\n",
    "from bs4 import BeautifulSoup\n",
    "\n",
    "def crawl_books_toscrape(url):\n",
    "    # Send a GET request to the website\n",
    "    response = requests.get(url)\n",
    "\n",
    "    # Check if the request was successful\n",
    "    if response.status_code == 200:\n",
    "        # Parse the HTML content\n",
    "        soup = BeautifulSoup(response.content, 'html.parser')\n",
    "\n",
    "        # Find all product (book) elements\n",
    "        books = soup.find_all('article', class_='product_pod')\n",
    "\n",
    "        for book in books:\n",
    "            # Extract book details\n",
    "            title = book.h3.a['title']\n",
    "            price = book.find('p', class_='price_color').text\n",
    "            availability = book.find('p', class_='instock availability').text.strip()\n",
    "            link = book.h3.a['href']\n",
    "\n",
    "            # Print the extracted information\n",
    "            print(f\"Title: {title}\")\n",
    "            print(f\"Price: {price}\")\n",
    "            print(f\"Availability: {availability}\")\n",
    "            print(f\"Link: {link}\\n\")\n",
    "    else:\n",
    "        print(f\"Failed to retrieve the webpage: {response.status_code}\")\n",
    "\n",
    "# Example usage\n",
    "url = 'https://books.toscrape.com/'\n",
    "crawl_books_toscrape(url)\n"
   ]
  },
  {
   "cell_type": "code",
   "execution_count": null,
   "metadata": {
    "id": "s83Mq95_4An9"
   },
   "outputs": [],
   "source": []
  }
 ],
 "metadata": {
  "colab": {
   "authorship_tag": "ABX9TyOVWPc5BPGXwdH3T8ovG0aU",
   "provenance": []
  },
  "kernelspec": {
   "display_name": ".venv",
   "language": "python",
   "name": "python3"
  },
  "language_info": {
   "codemirror_mode": {
    "name": "ipython",
    "version": 3
   },
   "file_extension": ".py",
   "mimetype": "text/x-python",
   "name": "python",
   "nbconvert_exporter": "python",
   "pygments_lexer": "ipython3",
   "version": "3.12.6"
  }
 },
 "nbformat": 4,
 "nbformat_minor": 4
}
