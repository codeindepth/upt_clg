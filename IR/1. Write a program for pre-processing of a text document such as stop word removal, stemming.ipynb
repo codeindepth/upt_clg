{
 "cells": [
  {
   "cell_type": "markdown",
   "metadata": {
    "id": "ND-nwbapSG1U"
   },
   "source": [
    "#### Code and Output\n"
   ]
  },
  {
   "cell_type": "code",
   "execution_count": null,
   "metadata": {
    "colab": {
     "base_uri": "https://localhost:8080/"
    },
    "executionInfo": {
     "elapsed": 1024,
     "status": "ok",
     "timestamp": 1727428229885,
     "user": {
      "displayName": "Vedant Andhale",
      "userId": "02021452861721042365"
     },
     "user_tz": -330
    },
    "id": "6eB-LIJBvf6l",
    "outputId": "07cd311b-b7c9-4cc1-f94c-7235e774353c"
   },
   "outputs": [
    {
     "name": "stderr",
     "output_type": "stream",
     "text": [
      "[nltk_data] Downloading package punkt to\n",
      "[nltk_data]     /home/syntaxintel/nltk_data...\n",
      "[nltk_data]   Package punkt is already up-to-date!\n",
      "[nltk_data] Downloading package punkt_tab to\n",
      "[nltk_data]     /home/syntaxintel/nltk_data...\n",
      "[nltk_data]   Package punkt_tab is already up-to-date!\n",
      "[nltk_data] Downloading package stopwords to\n",
      "[nltk_data]     /home/syntaxintel/nltk_data...\n",
      "[nltk_data]   Package stopwords is already up-to-date!\n"
     ]
    },
    {
     "data": {
      "text/plain": [
       "True"
      ]
     },
     "execution_count": 1,
     "metadata": {},
     "output_type": "execute_result"
    }
   ],
   "source": [
    "import nltk\n",
    "from nltk.corpus import stopwords\n",
    "from nltk.stem import PorterStemmer\n",
    "from nltk.tokenize import word_tokenize\n",
    "\n",
    "nltk.download('punkt')\n",
    "nltk.download('punkt_tab')\n",
    "nltk.download('stopwords')\n"
   ]
  },
  {
   "cell_type": "code",
   "execution_count": null,
   "metadata": {
    "colab": {
     "base_uri": "https://localhost:8080/"
    },
    "executionInfo": {
     "elapsed": 1664,
     "status": "ok",
     "timestamp": 1727428402657,
     "user": {
      "displayName": "Vedant Andhale",
      "userId": "02021452861721042365"
     },
     "user_tz": -330
    },
    "id": "xLFWIpEjvgRO",
    "outputId": "39e23935-d616-4c99-c05b-4035ccff690f"
   },
   "outputs": [
    {
     "name": "stdout",
     "output_type": "stream",
     "text": [
      "Processed text: exampl demonstr stop word remov stem use nltk\n"
     ]
    }
   ],
   "source": [
    "stemmer = PorterStemmer()\n",
    "stop_words = set(stopwords.words('english'))\n",
    "\n",
    "def preprocess_text(text):\n",
    "    tokenized_text = word_tokenize(text.lower())\n",
    "    processed_text = [stemmer.stem(word) for word in tokenized_text if word.isalnum() and word not in stop_words]\n",
    "    return ' '.join(processed_text)\n",
    "\n",
    "example_text = \"This is an example to demonstrate stop word removal and stemming using nltk.\"\n",
    "processed_text = preprocess_text(example_text)\n",
    "print(\"Processed text:\", processed_text)"
   ]
  },
  {
   "cell_type": "code",
   "execution_count": null,
   "metadata": {
    "id": "ZM6ekjsWv0BJ"
   },
   "outputs": [
    {
     "name": "stdout",
     "output_type": "stream",
     "text": [
      "Processed Text: example demonstrate stop word removal stemm us nltk\n"
     ]
    }
   ],
   "source": [
    "import re\n",
    "from sklearn.feature_extraction.text import ENGLISH_STOP_WORDS\n",
    "\n",
    "def preprocess_text_sklearn(text):\n",
    "    text = text.lower()\n",
    "    \n",
    "    text = re.sub(r'[^\\w\\s]', '', text)\n",
    "    \n",
    "    words = text.split()\n",
    "    filtered_words = [word for word in words if word not in ENGLISH_STOP_WORDS]\n",
    "    \n",
    "    stemmed_words = [re.sub(r'(ing|ed|s)$', '', word) for word in filtered_words]\n",
    "    \n",
    "    processed_text = ' '.join(stemmed_words)\n",
    "    \n",
    "    return processed_text\n",
    "\n",
    "text = \"This is an example to demonstrate stop word removal and stemming using nltk.\"\n",
    "processed_text = preprocess_text_sklearn(text)\n",
    "print(\"Processed Text:\", processed_text)\n"
   ]
  },
  {
   "cell_type": "code",
   "execution_count": null,
   "metadata": {},
   "outputs": [],
   "source": []
  }
 ],
 "metadata": {
  "colab": {
   "authorship_tag": "ABX9TyOOcWjp2giFzdWSF9BfPVyw",
   "provenance": []
  },
  "kernelspec": {
   "display_name": "Python 3 (ipykernel)",
   "language": "python",
   "name": "python3"
  },
  "language_info": {
   "codemirror_mode": {
    "name": "ipython",
    "version": 3
   },
   "file_extension": ".py",
   "mimetype": "text/x-python",
   "name": "python",
   "nbconvert_exporter": "python",
   "pygments_lexer": "ipython3",
   "version": "3.12.6"
  }
 },
 "nbformat": 4,
 "nbformat_minor": 4
}
