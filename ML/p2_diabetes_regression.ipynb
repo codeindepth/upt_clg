{
 "cells": [
  {
   "cell_type": "code",
   "execution_count": null,
   "id": "bf7bfcae",
   "metadata": {},
   "outputs": [],
   "source": [
    "import numpy as np\n",
    "import pandas as pd\n",
    "import matplotlib.pyplot as plt\n",
    "from pandas.plotting import scatter_matrix\n",
    "from sklearn.linear_model import LinearRegression, LogisticRegression\n",
    "import statsmodels.api as sm"
   ]
  },
  {
   "cell_type": "code",
   "execution_count": null,
   "id": "faf49d93",
   "metadata": {},
   "outputs": [],
   "source": [
    "df=pd.read_csv('diabetes.csv')"
   ]
  },
  {
   "cell_type": "code",
   "execution_count": null,
   "id": "39c9918c",
   "metadata": {},
   "outputs": [],
   "source": [
    "df.shape"
   ]
  },
  {
   "cell_type": "code",
   "execution_count": null,
   "id": "05cb460a",
   "metadata": {},
   "outputs": [],
   "source": [
    "df.head()"
   ]
  },
  {
   "cell_type": "code",
   "execution_count": null,
   "id": "69d35be4",
   "metadata": {},
   "outputs": [],
   "source": [
    "df.describe"
   ]
  },
  {
   "cell_type": "markdown",
   "id": "61a3b883",
   "metadata": {},
   "source": [
    "## Univariate analysis: Frequency, Mean, Median, Mode, Variance, Standard Deviation,\n"
   ]
  },
  {
   "cell_type": "markdown",
   "id": "22b38423",
   "metadata": {},
   "source": [
    "# skewness and kurtosis"
   ]
  },
  {
   "cell_type": "code",
   "execution_count": null,
   "id": "861fa66a",
   "metadata": {},
   "outputs": [],
   "source": [
    "for column in df.columns:\n",
    "    print(f\"Column: {column}\")\n",
    "    print(f\"Frequency:\\n{df[column].value_counts()}\\n\") \n",
    "    print(f\"Mean: {df[column].mean()}\")\n",
    "    print(f\"Median: {df[column].median()}\")\n",
    "    print(f\"Mode:\\n{df[column].mode()}\")\n",
    "    print(f\"Variance: {df[column].var()}\")\n",
    "    print(f\"Standard Deviation:{df[column].std()}\") \n",
    "    print(f\"Skewness:{df[column].skew()}\")\n",
    "    print(f\"Kurtosis: {df[column].kurt()}\")\n",
    "    print(\" \\n\")\n"
   ]
  },
  {
   "cell_type": "markdown",
   "id": "4d894297",
   "metadata": {},
   "source": [
    "# Bivariate analysis: Linear and logistic regression modeling"
   ]
  },
  {
   "cell_type": "code",
   "execution_count": null,
   "id": "ae96aea6",
   "metadata": {},
   "outputs": [],
   "source": [
    "X_linear = df[['Glucose', 'BloodPressure', 'SkinThickness', 'Insulin', 'BMI', 'DiabetesPedigreeFunction', 'Age']]\n",
    "y_linear = df['Outcome']"
   ]
  },
  {
   "cell_type": "code",
   "execution_count": null,
   "id": "8274107c",
   "metadata": {},
   "outputs": [],
   "source": [
    "model_linear = LinearRegression()\n",
    "model_linear.fit(X_linear, y_linear)"
   ]
  },
  {
   "cell_type": "code",
   "execution_count": null,
   "id": "09e9404b",
   "metadata": {},
   "outputs": [],
   "source": [
    "print('Linear Regression Coefficients:')\n",
    "for feature, coef in zip(X_linear.columns, model_linear.coef_):\n",
    "    print(f'{feature}: {coef}')"
   ]
  },
  {
   "cell_type": "code",
   "execution_count": null,
   "id": "748c28e2",
   "metadata": {},
   "outputs": [],
   "source": [
    "predictions_linear = model_linear.predict(X_linear)"
   ]
  },
  {
   "cell_type": "code",
   "execution_count": null,
   "id": "227a2357",
   "metadata": {},
   "outputs": [],
   "source": [
    "X_logistic = df[['Glucose', 'BloodPressure', 'SkinThickness', 'Insulin', 'BMI', 'DiabetesPedigreeFunction', 'Age']]\n",
    "y_logistic = df['Outcome']\n"
   ]
  },
  {
   "cell_type": "code",
   "execution_count": null,
   "id": "2c1760a9",
   "metadata": {},
   "outputs": [],
   "source": [
    "model_logistic = LogisticRegression()\n",
    "model_logistic.fit(X_logistic, y_logistic)"
   ]
  },
  {
   "cell_type": "code",
   "execution_count": null,
   "id": "e48139f2",
   "metadata": {},
   "outputs": [],
   "source": [
    "print('Logistic Regression Coefficients:')\n",
    "for feature, coef in zip(X_logistic.columns,model_logistic.coef_[0]): \n",
    "    print(f'{feature}: {coef}')"
   ]
  },
  {
   "cell_type": "code",
   "execution_count": null,
   "id": "74fe2911",
   "metadata": {},
   "outputs": [],
   "source": [
    "predictions_logistic = model_logistic.predict(X_logistic)"
   ]
  },
  {
   "cell_type": "markdown",
   "id": "3f332488",
   "metadata": {},
   "source": [
    "# Multiple Regression Analysis"
   ]
  },
  {
   "cell_type": "code",
   "execution_count": null,
   "id": "7f56b72d",
   "metadata": {},
   "outputs": [],
   "source": [
    "X = df.drop('Outcome', axis=1) \n",
    "y = df['Outcome'] \n"
   ]
  },
  {
   "cell_type": "code",
   "execution_count": null,
   "id": "f47833a8",
   "metadata": {},
   "outputs": [],
   "source": [
    "X = sm.add_constant(X)\n"
   ]
  },
  {
   "cell_type": "code",
   "execution_count": null,
   "id": "9634b085",
   "metadata": {},
   "outputs": [],
   "source": [
    "model = sm.OLS(y, X)\n",
    "results = model.fit()\n"
   ]
  },
  {
   "cell_type": "code",
   "execution_count": null,
   "id": "0c5c3226",
   "metadata": {},
   "outputs": [],
   "source": [
    "print(results.summary())\n"
   ]
  },
  {
   "cell_type": "code",
   "execution_count": null,
   "id": "f3d704bb",
   "metadata": {},
   "outputs": [],
   "source": [
    "corr=df.corr()"
   ]
  },
  {
   "cell_type": "code",
   "execution_count": null,
   "id": "3266b3e3",
   "metadata": {},
   "outputs": [],
   "source": [
    "fig = plt.figure()\n",
    "ax = fig.add_subplot(111)\n",
    "cax = ax.matshow(corr, vmin=-1, vmax=1) \n",
    "fig.colorbar(cax)\n",
    "ticks = np.arange(0, 9, 1)\n",
    "ax.set_xticks(ticks)\n",
    "ax.set_yticks(ticks)\n",
    "names = df.columns\n",
    "ax.set_xticklabels(names,rotation=90) \n",
    "ax.set_yticklabels(names)\n",
    "plt.show()"
   ]
  },
  {
   "cell_type": "code",
   "execution_count": null,
   "id": "bd33ecfa",
   "metadata": {},
   "outputs": [],
   "source": [
    "plt.rcParams['figure.figsize'] = [20, 20]\n",
    "scatter_matrix(df)\n",
    "plt.show()"
   ]
  },
  {
   "cell_type": "code",
   "execution_count": null,
   "id": "e7dda944",
   "metadata": {},
   "outputs": [],
   "source": []
  }
 ],
 "metadata": {
  "kernelspec": {
   "display_name": "Python 3 (ipykernel)",
   "language": "python",
   "name": "python3"
  },
  "language_info": {
   "codemirror_mode": {
    "name": "ipython",
    "version": 3
   },
   "file_extension": ".py",
   "mimetype": "text/x-python",
   "name": "python",
   "nbconvert_exporter": "python",
   "pygments_lexer": "ipython3",
   "version": "3.12.6"
  }
 },
 "nbformat": 4,
 "nbformat_minor": 5
}
