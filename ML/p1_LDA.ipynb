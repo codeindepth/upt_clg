{
 "cells": [
  {
   "cell_type": "code",
   "execution_count": null,
   "id": "d5973350",
   "metadata": {},
   "outputs": [],
   "source": [
    "import pandas as pd\n",
    "from sklearn.model_selection import train_test_split\n",
    "from sklearn.preprocessing import StandardScaler\n",
    "from sklearn.discriminant_analysis import LinearDiscriminantAnalysis\n",
    "from sklearn.linear_model import LogisticRegression"
   ]
  },
  {
   "cell_type": "code",
   "execution_count": null,
   "id": "f9c51c61",
   "metadata": {},
   "outputs": [],
   "source": [
    "df = pd.read_csv(\"iris.csv\")"
   ]
  },
  {
   "cell_type": "code",
   "execution_count": null,
   "id": "c373d964",
   "metadata": {},
   "outputs": [],
   "source": [
    "print(df)"
   ]
  },
  {
   "cell_type": "code",
   "execution_count": null,
   "id": "b56b1937",
   "metadata": {},
   "outputs": [],
   "source": [
    "df[\"species\"].unique()"
   ]
  },
  {
   "cell_type": "code",
   "execution_count": null,
   "id": "54b5de33",
   "metadata": {},
   "outputs": [],
   "source": [
    "X = df.drop([\"species\"], axis=1)\n",
    "y = df[\"species\"]"
   ]
  },
  {
   "cell_type": "code",
   "execution_count": null,
   "id": "86a6d54f",
   "metadata": {},
   "outputs": [],
   "source": [
    "scaler = StandardScaler()"
   ]
  },
  {
   "cell_type": "code",
   "execution_count": null,
   "id": "c39089d2",
   "metadata": {},
   "outputs": [],
   "source": [
    "X_scaled = scaler.fit_transform(X)"
   ]
  },
  {
   "cell_type": "code",
   "execution_count": null,
   "id": "c469a401",
   "metadata": {},
   "outputs": [],
   "source": [
    "lda = LinearDiscriminantAnalysis()"
   ]
  },
  {
   "cell_type": "code",
   "execution_count": null,
   "id": "5ed78868",
   "metadata": {},
   "outputs": [],
   "source": [
    "x_lda = lda.fit_transform(X_scaled, y)"
   ]
  },
  {
   "cell_type": "code",
   "execution_count": null,
   "id": "a8279223",
   "metadata": {},
   "outputs": [],
   "source": [
    "# split the data into the train and test\n",
    "X_train, X_test, y_train, y_test = train_test_split(\n",
    "    x_lda, y, test_size=0.2, random_state=42\n",
    ")"
   ]
  },
  {
   "cell_type": "code",
   "execution_count": null,
   "id": "f0e14ac8",
   "metadata": {},
   "outputs": [],
   "source": [
    "# train a logistic regression classifier\n",
    "classifier = LogisticRegression()"
   ]
  },
  {
   "cell_type": "code",
   "execution_count": null,
   "id": "893b4c5a",
   "metadata": {},
   "outputs": [],
   "source": [
    "classifier.fit(X_train, y_train)"
   ]
  },
  {
   "cell_type": "code",
   "execution_count": null,
   "id": "b82c492a",
   "metadata": {},
   "outputs": [],
   "source": [
    "# suppose you have a new flower witth following measures measurements\n",
    "new_flower = [[6.7, 3.0, 5.2, 1.3]]"
   ]
  },
  {
   "cell_type": "code",
   "execution_count": null,
   "id": "043bc0f4",
   "metadata": {},
   "outputs": [],
   "source": [
    "# Scale the new flower using the same scaler used for training\n",
    "new_flower_scaled = scaler.transform(new_flower)"
   ]
  },
  {
   "cell_type": "code",
   "execution_count": null,
   "id": "af0b89e4",
   "metadata": {},
   "outputs": [],
   "source": [
    "# Apply LDA on the scaled new flower\n",
    "new_flower_lda = lda.transform(new_flower_scaled)"
   ]
  },
  {
   "cell_type": "code",
   "execution_count": null,
   "id": "e067c0d4",
   "metadata": {},
   "outputs": [],
   "source": [
    "# Predict the species of the new flower\n",
    "predicted_species = classifier.predict(new_flower_lda)"
   ]
  },
  {
   "cell_type": "code",
   "execution_count": null,
   "id": "ce6ad2ad",
   "metadata": {},
   "outputs": [],
   "source": [
    "# Map the predicted label to the actual species\n",
    "species_mapping = {\"setosa\": 0, \"versicolor\": 1, \"virginica\": 2}\n",
    "predicted_species_name = species_mapping[predicted_species[0]]"
   ]
  },
  {
   "cell_type": "code",
   "execution_count": null,
   "id": "0c8f99b3",
   "metadata": {},
   "outputs": [],
   "source": [
    "print(\"Predicted species:\", predicted_species_name)"
   ]
  },
  {
   "cell_type": "code",
   "execution_count": null,
   "id": "787725f6",
   "metadata": {},
   "outputs": [],
   "source": []
  }
 ],
 "metadata": {
  "kernelspec": {
   "display_name": "Python 3 (ipykernel)",
   "language": "python",
   "name": "python3"
  },
  "language_info": {
   "codemirror_mode": {
    "name": "ipython",
    "version": 3
   },
   "file_extension": ".py",
   "mimetype": "text/x-python",
   "name": "python",
   "nbconvert_exporter": "python",
   "pygments_lexer": "ipython3",
   "version": "3.12.6"
  }
 },
 "nbformat": 4,
 "nbformat_minor": 5
}
