{
 "cells": [
  {
   "cell_type": "markdown",
   "id": "ec072740",
   "metadata": {},
   "source": [
    "# Title : Analyzing Weather Data from OpenWeatherMap API"
   ]
  },
  {
   "cell_type": "code",
   "execution_count": null,
   "id": "1afda624",
   "metadata": {},
   "outputs": [],
   "source": [
    "import requests\n",
    "import pandas as pd\n",
    "import matplotlib.pyplot as plt\n",
    "import seaborn as sns\n",
    "import folium\n",
    "from folium.plugins import HeatMap"
   ]
  },
  {
   "cell_type": "code",
   "execution_count": null,
   "id": "613412fd",
   "metadata": {},
   "outputs": [],
   "source": [
    "api_key = '373256372741af36710261b69fb037e4' "
   ]
  },
  {
   "cell_type": "code",
   "execution_count": null,
   "id": "ce65511f",
   "metadata": {},
   "outputs": [],
   "source": [
    "lat = 35.4639\n",
    "lon = 77.0439"
   ]
  },
  {
   "cell_type": "code",
   "execution_count": null,
   "id": "784ea395",
   "metadata": {},
   "outputs": [],
   "source": [
    "api_url = f\"http://api.openweathermap.org/data/2.5/forecast?lat={lat}&lon={lon}&appid={api_key}\""
   ]
  },
  {
   "cell_type": "code",
   "execution_count": null,
   "id": "09ebd88d",
   "metadata": {},
   "outputs": [],
   "source": [
    "response = requests.get(api_url)\n",
    "weather_data = response.json()\n",
    "weather_data.keys()\n",
    "len(weather_data['list'])\n",
    "weather_data['list'][0]"
   ]
  },
  {
   "cell_type": "code",
   "execution_count": null,
   "id": "3b0fb480",
   "metadata": {},
   "outputs": [],
   "source": [
    "timestamps = [pd.to_datetime(item['dt'], unit='s') for item in weather_data['list']]\n",
    "temperatures = [item['main']['temp'] for item in weather_data['list']]\n",
    "humidity = [item['main']['humidity'] for item in weather_data['list']]\n",
    "wind_speed = [item['wind']['speed'] for item in weather_data['list']]\n",
    "weather_description = [item['weather'][0]['description'] for item in weather_data['list']]"
   ]
  },
  {
   "cell_type": "code",
   "execution_count": null,
   "id": "0bc6853d",
   "metadata": {},
   "outputs": [],
   "source": [
    "weather_df = pd.DataFrame({'Timestamp': timestamps, \n",
    "                           'Temperature': temperatures, \n",
    "                           'humidity': humidity, \n",
    "                           'wind_speed':wind_speed,\n",
    "                           'weather_description': weather_description})"
   ]
  },
  {
   "cell_type": "code",
   "execution_count": null,
   "id": "446b05f6",
   "metadata": {},
   "outputs": [],
   "source": [
    "weather_df.set_index('Timestamp', inplace=True)\n",
    "\n",
    "weather_df['Temperature'] = weather_df['Temperature'].apply(lambda x: x - 273.15 if isinstance(x, float)else x)\n",
    "\n",
    "weather_df.fillna(method='ffill', inplace=True) \n",
    " \n",
    "display(weather_df.head())\n",
    "print(weather_df.dtypes)\n",
    "display(weather_df.describe(exclude=['datetime','object']))"
   ]
  },
  {
   "cell_type": "code",
   "execution_count": null,
   "id": "48171821",
   "metadata": {},
   "outputs": [],
   "source": [
    "daily_mean_temp = weather_df['Temperature'].resample('D').mean()\n",
    "daily_mean_humidity = weather_df['humidity'].resample('D').mean()\n",
    "daily_mean_wind_speed = weather_df['wind_speed'].resample('D').mean()"
   ]
  },
  {
   "cell_type": "code",
   "execution_count": null,
   "id": "79709c95",
   "metadata": {},
   "outputs": [],
   "source": [
    "daily_mean_temp.plot(kind='line')\n",
    "plt.title('Mean Daily Temperature')\n",
    "plt.xlabel('Date')\n",
    "plt.ylabel('Temperature')\n",
    "plt.grid(True)\n",
    "plt.show()\n",
    "\n",
    "daily_mean_humidity.plot(kind='bar')\n",
    "plt.title('Mean Daily Humidity')\n",
    "plt.xlabel('Date')\n",
    "plt.ylabel('Humidity')\n",
    "plt.grid(True)\n",
    "plt.show()\n",
    "\n",
    "plt.scatter(weather_df['Temperature'], weather_df['wind_speed'])\n",
    "plt.title('Temperature vs. Wind Speed')\n",
    "plt.xlabel('Temperature')\n",
    "plt.ylabel('Wind Speed')\n",
    "plt.grid(True)\n",
    "plt.show()\n",
    "\n",
    "sns.heatmap(weather_df[['Temperature', 'humidity']],annot=True)\n",
    "plt.title('Temperature vs Humidity')\n",
    "plt.show()\n",
    "\n",
    "plt.scatter(weather_df['Temperature'], weather_df['humidity'])\n",
    "plt.xlabel('Temperature')\n",
    "plt.ylabel('Humidity')\n",
    "plt.title('Temperature vs Humidity')\n",
    "plt.show()"
   ]
  },
  {
   "cell_type": "code",
   "execution_count": null,
   "id": "58ee205c-7dc4-42f8-8e79-bd51a29b63fd",
   "metadata": {},
   "outputs": [],
   "source": [
    "map = folium.Map(location=[lat, lon], zoom_start=12)\n",
    "\n",
    "heatmap_data = [[lat, lon, weather_df['Temperature'].iloc[0]]]  \n",
    "\n",
    "folium.Marker(\n",
    "    location=[lat, lon],\n",
    "    popup=f\"Temperature: {weather_df['Temperature'].iloc[0]:.2f}°C<br>Humidity: {weather_df['humidity'].iloc[0]}%<br>{weather_description[0]}\",\n",
    "    icon=folium.Icon(color='blue')\n",
    ").add_to(map)\n",
    "\n",
    "HeatMap(heatmap_data, min_opacity=0.2, radius=15, blur=20, max_zoom=18).add_to(m)\n",
    "\n",
    "map.save(\"weather_map.html\")\n",
    "\n",
    "map"
   ]
  },
  {
   "cell_type": "code",
   "execution_count": null,
   "id": "71666dcd-740d-4eef-b439-99ac962599c2",
   "metadata": {},
   "outputs": [],
   "source": []
  }
 ],
 "metadata": {
  "kernelspec": {
   "display_name": "Python 3 (ipykernel)",
   "language": "python",
   "name": "python3"
  },
  "language_info": {
   "codemirror_mode": {
    "name": "ipython",
    "version": 3
   },
   "file_extension": ".py",
   "mimetype": "text/x-python",
   "name": "python",
   "nbconvert_exporter": "python",
   "pygments_lexer": "ipython3",
   "version": "3.12.6"
  }
 },
 "nbformat": 4,
 "nbformat_minor": 5
}
